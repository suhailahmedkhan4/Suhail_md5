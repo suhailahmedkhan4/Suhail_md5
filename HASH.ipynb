{
  "nbformat": 4,
  "nbformat_minor": 0,
  "metadata": {
    "colab": {
      "name": "Untitled4.ipynb",
      "provenance": []
    },
    "kernelspec": {
      "name": "python3",
      "display_name": "Python 3"
    },
    "language_info": {
      "name": "python"
    }
  },
  "cells": [
    {
      "cell_type": "markdown",
      "metadata": {
        "id": "XXr7sn5q5HkK"
      },
      "source": [
        "## **Hashing A String**"
      ]
    },
    {
      "cell_type": "code",
      "metadata": {
        "colab": {
          "base_uri": "https://localhost:8080/"
        },
        "id": "5oclLyqVPz-T",
        "outputId": "6e6f829d-14f1-4e03-8be8-1a4569c6c2b6"
      },
      "source": [
        "import hashlib\n",
        "print(hashlib.algorithms_available)\n",
        "name = \"I am Harsh\""
      ],
      "execution_count": 77,
      "outputs": [
        {
          "output_type": "stream",
          "text": [
            "{'sha3_224', 'sha256', 'sha3_384', 'md5', 'blake2s', 'sha3_256', 'sha3_512', 'shake_256', 'sha512', 'shake_128', 'sha224', 'sha1', 'sha384', 'blake2b'}\n"
          ],
          "name": "stdout"
        }
      ]
    },
    {
      "cell_type": "markdown",
      "metadata": {
        "id": "nQMYjhnyqp9C"
      },
      "source": [
        "**Using md5**"
      ]
    },
    {
      "cell_type": "code",
      "metadata": {
        "colab": {
          "base_uri": "https://localhost:8080/"
        },
        "id": "mPT-4mOcqz29",
        "outputId": "46264973-b370-4663-b718-3faf261d8497"
      },
      "source": [
        "result1 = hashlib.md5(name.encode())\n",
        "\n",
        "print(\"The hexadecimal equivalent of hash using MD5 is : \", end =\"\")\n",
        "print(result1.hexdigest())"
      ],
      "execution_count": 78,
      "outputs": [
        {
          "output_type": "stream",
          "text": [
            "The hexadecimal equivalent of hash using MD5 is : e0b7228ac01c09860018c61a3c9ae77a\n"
          ],
          "name": "stdout"
        }
      ]
    },
    {
      "cell_type": "markdown",
      "metadata": {
        "id": "fX0BLPUsq4_L"
      },
      "source": [
        "**Using sha512**"
      ]
    },
    {
      "cell_type": "code",
      "metadata": {
        "colab": {
          "base_uri": "https://localhost:8080/"
        },
        "id": "f3zYjIaKq3kl",
        "outputId": "93065cf2-f689-4a28-b1f7-294dea8c9798"
      },
      "source": [
        "result2 = hashlib.sha512(name.encode())\n",
        "\n",
        "print(\"The hexadecimal equivalent of hash using sha512 is : \", end =\"\")\n",
        "print(result2.hexdigest())\n"
      ],
      "execution_count": 79,
      "outputs": [
        {
          "output_type": "stream",
          "text": [
            "The hexadecimal equivalent of hash using sha512 is : 30bab54a5d2819b91401d0e454a2f451a56bb89e9faf891513a79e516dc346cb81e4ccc720b3294965273a261ff83c2820f7b79f4b25666ecda03a05511c878a\n"
          ],
          "name": "stdout"
        }
      ]
    },
    {
      "cell_type": "markdown",
      "metadata": {
        "id": "v-Z4wuqprHj5"
      },
      "source": [
        "**Using blake2b**"
      ]
    },
    {
      "cell_type": "code",
      "metadata": {
        "colab": {
          "base_uri": "https://localhost:8080/"
        },
        "id": "Ql-WzWkvrGos",
        "outputId": "bb5209d1-dc8f-4c55-d798-8c4586918828"
      },
      "source": [
        "result3 = hashlib.blake2b(name.encode())\n",
        "\n",
        "print(\"The hexadecimal equivalent of hash using blake2b is : \", end =\"\")\n",
        "print(result3.hexdigest())"
      ],
      "execution_count": 80,
      "outputs": [
        {
          "output_type": "stream",
          "text": [
            "The hexadecimal equivalent of hash using blake2b is : d21ee9b9880b5af043471a7f93f261acfb7dd22003aa27ceac43f0a9585191fcee1d56bdbde4cc9294d0255dbbf15c4b70b25d53234f969c7127cf3178c42b7b\n"
          ],
          "name": "stdout"
        }
      ]
    },
    {
      "cell_type": "markdown",
      "metadata": {
        "id": "xqwJ30S8rVAl"
      },
      "source": [
        "**Using shake_256**"
      ]
    },
    {
      "cell_type": "code",
      "metadata": {
        "colab": {
          "base_uri": "https://localhost:8080/"
        },
        "id": "RXrUmdZOrREn",
        "outputId": "3c399b36-774b-4bc3-aaa2-1b360fff242f"
      },
      "source": [
        "result4 = hashlib.shake_256(name.encode())\n",
        "print(\"The hexadecimal equivalent of hash using shake_256 is : \", end =\"\")\n",
        "print(result4.hexdigest(8))"
      ],
      "execution_count": 81,
      "outputs": [
        {
          "output_type": "stream",
          "text": [
            "The hexadecimal equivalent of hash using shake_256 is : 093a95107f182065\n"
          ],
          "name": "stdout"
        }
      ]
    },
    {
      "cell_type": "markdown",
      "metadata": {
        "id": "EvD-kPUl6MOv"
      },
      "source": [
        "**Salting the Hash**"
      ]
    },
    {
      "cell_type": "code",
      "metadata": {
        "colab": {
          "base_uri": "https://localhost:8080/"
        },
        "id": "tivJNu5KsBn-",
        "outputId": "cf45af77-cf90-4c5c-9493-b48e000e1821"
      },
      "source": [
        "salt='pss'\n",
        "print(\"The hexadecimal equivalent of hash using md5 and salting is : \", end =\"\")\n",
        "salted= hashlib.md5(salt.encode()+name.encode())\n",
        "result5 = salted.hexdigest()\n",
        "print(result5)"
      ],
      "execution_count": 82,
      "outputs": [
        {
          "output_type": "stream",
          "text": [
            "The hexadecimal equivalent of hash using md5 and salting is : b3a72b880775a34bc1689b41f9b4225f\n"
          ],
          "name": "stdout"
        }
      ]
    },
    {
      "cell_type": "markdown",
      "metadata": {
        "id": "FOPvdy315mtz"
      },
      "source": [
        "**Iterating The Hash 5 Times**"
      ]
    },
    {
      "cell_type": "code",
      "metadata": {
        "colab": {
          "base_uri": "https://localhost:8080/"
        },
        "id": "HOy9-CVLof9d",
        "outputId": "45082a47-22cb-404a-b61e-da1c8714ce24"
      },
      "source": [
        "def make_hash(text, iterations):\n",
        "    a = hashlib.md5(text.encode()).hexdigest()\n",
        "    for _ in range(iterations):\n",
        "        a = hashlib.md5(a.encode()).hexdigest()\n",
        "    return a\n",
        "\n",
        "\n",
        "a = make_hash(name, 4) \n",
        "print (a)"
      ],
      "execution_count": 83,
      "outputs": [
        {
          "output_type": "stream",
          "text": [
            "6a328e37707f1866a0e31d645bac295c\n"
          ],
          "name": "stdout"
        }
      ]
    },
    {
      "cell_type": "code",
      "metadata": {
        "colab": {
          "base_uri": "https://localhost:8080/"
        },
        "id": "ELp3FaOS3mEJ",
        "outputId": "c5d48e71-42c9-404e-b159-5394cb823276"
      },
      "source": [
        "a=name\n",
        "for i in range(5):\n",
        "      a = hashlib.md5(a.encode()).hexdigest()\n",
        "      print(a)"
      ],
      "execution_count": 84,
      "outputs": [
        {
          "output_type": "stream",
          "text": [
            "e0b7228ac01c09860018c61a3c9ae77a\n",
            "6e1dc775aed3b2b54dd52569385d6e2b\n",
            "b64196791db0f248697afd326be8d880\n",
            "903affa3c8a2447d9ac89fc081538ce2\n",
            "6a328e37707f1866a0e31d645bac295c\n"
          ],
          "name": "stdout"
        }
      ]
    }
  ]
}